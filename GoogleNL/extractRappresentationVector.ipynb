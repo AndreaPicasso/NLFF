{
 "cells": [
  {
   "cell_type": "code",
   "execution_count": 34,
   "metadata": {},
   "outputs": [],
   "source": [
    "import pandas as pd\n",
    "import numpy as np\n",
    "import json\n",
    "import matplotlib.pyplot as plt\n",
    "from nltk.stem.porter import PorterStemmer\n"
   ]
  },
  {
   "cell_type": "code",
   "execution_count": 35,
   "metadata": {},
   "outputs": [
    {
     "data": {
      "text/html": [
       "<div>\n",
       "<style scoped>\n",
       "    .dataframe tbody tr th:only-of-type {\n",
       "        vertical-align: middle;\n",
       "    }\n",
       "\n",
       "    .dataframe tbody tr th {\n",
       "        vertical-align: top;\n",
       "    }\n",
       "\n",
       "    .dataframe thead th {\n",
       "        text-align: right;\n",
       "    }\n",
       "</style>\n",
       "<table border=\"1\" class=\"dataframe\">\n",
       "  <thead>\n",
       "    <tr style=\"text-align: right;\">\n",
       "      <th></th>\n",
       "      <th>DATE</th>\n",
       "      <th>GoogleSentiment</th>\n",
       "    </tr>\n",
       "  </thead>\n",
       "  <tbody>\n",
       "    <tr>\n",
       "      <th>0</th>\n",
       "      <td>2017-05-22 00:46:00</td>\n",
       "      <td>\"{\"entities\": [{\"name\": \"businesses\", \"salien...</td>\n",
       "    </tr>\n",
       "    <tr>\n",
       "      <th>1</th>\n",
       "      <td>2017-05-22 03:53:19</td>\n",
       "      <td>\"{\"entities\": [{\"name\": \"Big Tech's Not-So\", ...</td>\n",
       "    </tr>\n",
       "    <tr>\n",
       "      <th>2</th>\n",
       "      <td>2017-05-22 04:12:29</td>\n",
       "      <td>\"{\"entities\": [{\"name\": \"jobs\", \"salience\": 0...</td>\n",
       "    </tr>\n",
       "    <tr>\n",
       "      <th>3</th>\n",
       "      <td>2017-05-22 11:35:00</td>\n",
       "      <td>\"{\"entities\": [{\"name\": \"smartphone killer\", ...</td>\n",
       "    </tr>\n",
       "    <tr>\n",
       "      <th>4</th>\n",
       "      <td>2017-05-22 13:06:51</td>\n",
       "      <td>\"{\"entities\": [{\"name\": \"Threat\", \"salience\":...</td>\n",
       "    </tr>\n",
       "  </tbody>\n",
       "</table>\n",
       "</div>"
      ],
      "text/plain": [
       "                   DATE                                    GoogleSentiment\n",
       "0  2017-05-22 00:46:00    \"{\"entities\": [{\"name\": \"businesses\", \"salien...\n",
       "1  2017-05-22 03:53:19    \"{\"entities\": [{\"name\": \"Big Tech's Not-So\", ...\n",
       "2  2017-05-22 04:12:29    \"{\"entities\": [{\"name\": \"jobs\", \"salience\": 0...\n",
       "3  2017-05-22 11:35:00    \"{\"entities\": [{\"name\": \"smartphone killer\", ...\n",
       "4  2017-05-22 13:06:51    \"{\"entities\": [{\"name\": \"Threat\", \"salience\":..."
      ]
     },
     "execution_count": 35,
     "metadata": {},
     "output_type": "execute_result"
    }
   ],
   "source": [
    "ticker = 'MSFT'\n",
    "googleSent = pd.read_csv('/home/simone/Desktop/NLFF/GoogleNL/JSON_dataset/'+str(ticker)+'_googleSentimentJSON.csv', sep=';', names=['DATE','GoogleSentiment'])\n",
    "googleSent = googleSent.sort_values(by=['DATE'])\n",
    "googleSent = googleSent.reset_index(drop=True)\n",
    "googleSent.head()"
   ]
  },
  {
   "cell_type": "code",
   "execution_count": 36,
   "metadata": {},
   "outputs": [],
   "source": [
    "porter_stemmer = PorterStemmer()\n",
    "\n",
    "for i, row in googleSent.iterrows():\n",
    "    a = json.loads(googleSent['GoogleSentiment'][i][2:-1])\n",
    "    for ent in a['entities']:\n",
    "        ent['name'] = porter_stemmer.stem(ent['name'])\n",
    "    googleSent['GoogleSentiment'].at[i] = a "
   ]
  },
  {
   "cell_type": "code",
   "execution_count": 37,
   "metadata": {},
   "outputs": [
    {
     "data": {
      "text/plain": [
       "{'entities': [{'name': 'busi',\n",
       "   'salience': 0.5081738829612732,\n",
       "   'sentiment': {'magnitude': 0.30000001192092896,\n",
       "    'score': 0.10000000149011612},\n",
       "   'type': 3,\n",
       "   'mentions': [{'text': {'content': 'businesses', 'begin_offset': 73},\n",
       "     'type': 2,\n",
       "     'sentiment': {'magnitude': 0.0, 'score': 0.0}}]},\n",
       "  {'name': 'look',\n",
       "   'salience': 0.20836080610752106,\n",
       "   'sentiment': {'magnitude': 0.0, 'score': 0.0},\n",
       "   'type': 7,\n",
       "   'mentions': [{'text': {'content': 'look', 'begin_offset': 10},\n",
       "     'type': 2,\n",
       "     'sentiment': {'magnitude': 0.0, 'score': 0.0}}]},\n",
       "  {'name': 'tool',\n",
       "   'salience': 0.09848238527774811,\n",
       "   'sentiment': {'magnitude': 0.0, 'score': 0.0},\n",
       "   'type': 7,\n",
       "   'mentions': [{'text': {'content': 'tools', 'begin_offset': 22},\n",
       "     'type': 2,\n",
       "     'sentiment': {'magnitude': 0.0, 'score': 0.0}}]},\n",
       "  {'name': 'busi',\n",
       "   'salience': 0.07424759864807129,\n",
       "   'sentiment': {'magnitude': 0.0, 'score': 0.0},\n",
       "   'type': 7,\n",
       "   'mentions': [{'text': {'content': 'business', 'begin_offset': 48},\n",
       "     'type': 2,\n",
       "     'sentiment': {'magnitude': 0.0, 'score': 0.0}}]},\n",
       "  {'name': 'australian',\n",
       "   'salience': 0.061349742114543915,\n",
       "   'sentiment': {'magnitude': 0.0, 'score': 0.0},\n",
       "   'type': 2,\n",
       "   'mentions': [{'text': {'content': 'Australian', 'begin_offset': 37},\n",
       "     'type': 1,\n",
       "     'sentiment': {'magnitude': 0.0, 'score': 0.0}},\n",
       "    {'text': {'content': 'Australian', 'begin_offset': 62},\n",
       "     'type': 1,\n",
       "     'sentiment': {'magnitude': 0.0, 'score': 0.0}}]},\n",
       "  {'name': 'tool',\n",
       "   'salience': 0.03118424490094185,\n",
       "   'sentiment': {'magnitude': 0.0, 'score': 0.0},\n",
       "   'type': 7,\n",
       "   'mentions': [{'text': {'content': 'tools', 'begin_offset': 96},\n",
       "     'type': 2,\n",
       "     'sentiment': {'magnitude': 0.0, 'score': 0.0}}]},\n",
       "  {'name': 'busi',\n",
       "   'salience': 0.01820133626461029,\n",
       "   'sentiment': {'magnitude': 0.10000000149011612,\n",
       "    'score': 0.10000000149011612},\n",
       "   'type': 7,\n",
       "   'mentions': [{'text': {'content': 'business', 'begin_offset': 133},\n",
       "     'type': 2,\n",
       "     'sentiment': {'magnitude': 0.10000000149011612,\n",
       "      'score': 0.10000000149011612}}]}],\n",
       " 'language': 'en'}"
      ]
     },
     "execution_count": 37,
     "metadata": {},
     "output_type": "execute_result"
    }
   ],
   "source": [
    "googleSent['GoogleSentiment'][0]"
   ]
  },
  {
   "cell_type": "code",
   "execution_count": 38,
   "metadata": {},
   "outputs": [],
   "source": [
    "entities = {}\n",
    "\n",
    "for i, row in googleSent.iterrows():\n",
    "    entJ = googleSent['GoogleSentiment'][i]\n",
    "    for ent in entJ['entities']:\n",
    "        if ent['name'] in entities:\n",
    "            entities[ent['name']] +=1\n",
    "        else:\n",
    "            entities[ent['name']] =1"
   ]
  },
  {
   "cell_type": "code",
   "execution_count": 39,
   "metadata": {
    "scrolled": true
   },
   "outputs": [
    {
     "data": {
      "image/png": "[encoded data removed]",
      "text/plain": [
       "<Figure size 1296x360 with 1 Axes>"
      ]
     },
     "metadata": {},
     "output_type": "display_data"
    }
   ],
   "source": [
    "ent = entities.items()\n",
    "ent = sorted(ent, key=lambda kv: kv[1], reverse=True)\n",
    "x = [entity[0] for entity in ent]\n",
    "y = [entity[1] for entity in ent]\n",
    "y = [item/len(googleSent) for item in y]\n",
    "plt.figure(figsize=(18,5))\n",
    "plt.plot(y)\n",
    "plt.xlim((0, 50)) \n",
    "plt.title('% entity in news')\n",
    "locs, labels = plt.xticks()  \n",
    "plt.xticks(locs, [str(int(l))+'\\n'+str(x[int(l)]) for l in locs])\n",
    "plt.show()\n"
   ]
  },
  {
   "cell_type": "code",
   "execution_count": 40,
   "metadata": {},
   "outputs": [
    {
     "name": "stdout",
     "output_type": "stream",
     "text": [
      "Most common entities:\n",
      "['microsoft', 'stock', 'compani', 'share', 'appl', 'nasdaq', 'amazon', 'googl', 'earn', 'investor', 'investorplace stock market', 'market', 'facebook', 'posit', 'world', 'game', 'revenu', 'busi', 'microsoft corpor', 'amp trading tip', 'cloud', 'u.s.', 'technolog', 'growth', 'result', 'thing', 'amp', 'analyst', 'report', 'ibm']\n",
      "\n",
      "\n",
      "We are ignoring the others 25112 entities that appear less than 3.0 % of times\n",
      "We are ignoring 81.3% of the mentions\n"
     ]
    }
   ],
   "source": [
    "threshhold = 30\n",
    "most_common = x[0:threshhold]\n",
    "print('Most common entities:\\n'+str(most_common))\n",
    "print('\\n\\nWe are ignoring the others '+str(len(x)-threshhold)+' entities that appear less than '+\"{:1.1f}\".format(y[threshhold]*100)+' % of times')\n",
    "print('We are ignoring '+\"{:1.1f}\".format((1 - sum(y[:threshhold])/sum(y) )*100)+'% of the mentions')"
   ]
  },
  {
   "cell_type": "code",
   "execution_count": null,
   "metadata": {},
   "outputs": [],
   "source": [
    "# googleSent['entSentVec'] = ''\n",
    "# for i, row in googleSent.iterrows():\n",
    "#     vec = [0]*(len(most_common)*3+2) #for each entity: salience, magnitude and sentiment + total sentiment & magnitude\n",
    "#     entJ = googleSent['GoogleSentiment'][i]\n",
    "#     totSent = 0\n",
    "#     totMagn = 0\n",
    "#     for ent in entJ['entities']:\n",
    "#         totSent += ent['sentiment']['score']\n",
    "#         totMagn += ent['sentiment']['magnitude']\n",
    "        \n",
    "#         if ent['name'] in most_common:\n",
    "#             offset = most_common.index(ent['name'])*3\n",
    "#             vec[offset] = ent['salience']\n",
    "#             vec[offset+1] = ent['sentiment']['magnitude']            \n",
    "#             vec[offset+2] = ent['sentiment']['score']\n",
    "#     vec[-2] = totMagn\n",
    "#     vec[-1] = totSent\n",
    "#     googleSent['entSentVec'].at[i] = vec\n",
    "    \n",
    "# googleSent.to_csv('SentimentSingleNews/'+str(ticker)+'_googleSentVector.csv')"
   ]
  },
  {
   "cell_type": "code",
   "execution_count": 41,
   "metadata": {},
   "outputs": [
    {
     "name": "stdout",
     "output_type": "stream",
     "text": [
      "0\n",
      "1000\n",
      "2000\n",
      "3000\n",
      "4000\n",
      "5000\n",
      "6000\n",
      "7000\n",
      "8000\n",
      "9000\n",
      "10000\n"
     ]
    }
   ],
   "source": [
    " #for each entity: salience, magnitude, sentiment and count of # times of mention + total sentiment & magnitude\n",
    "features_names = [w+'_sa' for w in most_common]\n",
    "features_names += [w+'_se' for w in most_common]\n",
    "features_names += [w+'_ma' for w in most_common]\n",
    "features_names += [w+'_co' for w in most_common]\n",
    "features_names +=['tot_se','tot_ma']\n",
    "\n",
    "for feature_name in features_names:\n",
    "    googleSent[feature_name] = '' \n",
    "\n",
    "for i, row in googleSent.iterrows():\n",
    "    if(i%1000 == 0):\n",
    "        print(i)\n",
    "    features = {feature_name: 0 for feature_name in features_names}\n",
    "\n",
    "    entJ = googleSent['GoogleSentiment'][i]\n",
    "    for ent in entJ['entities']:\n",
    "        features['tot_se'] += ent['sentiment']['score']\n",
    "        features['tot_ma'] += ent['sentiment']['magnitude']\n",
    "        if ent['name'] in most_common:\n",
    "            features[str(ent['name'])+'_ma'] = ent['sentiment']['magnitude'] \n",
    "            features[str(ent['name'])+'_se'] = ent['sentiment']['score']\n",
    "            features[str(ent['name'])+'_sa'] = ent['sentiment']['magnitude'] \n",
    "            features[str(ent['name'])+'_co'] = 1 \n",
    "    for f in features.keys():\n",
    "        googleSent.at[i,f] = features[f]"
   ]
  },
  {
   "cell_type": "code",
   "execution_count": 42,
   "metadata": {},
   "outputs": [],
   "source": [
    "googleSent.to_csv('SentimentSingleNews/'+str(ticker)+'_googleSentVector.csv')"
   ]
  },
  {
   "cell_type": "code",
   "execution_count": null,
   "metadata": {},
   "outputs": [],
   "source": [
    "len(googleSent.columns)"
   ]
  },
  {
   "cell_type": "code",
   "execution_count": null,
   "metadata": {},
   "outputs": [],
   "source": []
  },
  {
   "cell_type": "code",
   "execution_count": null,
   "metadata": {},
   "outputs": [],
   "source": []
  },
  {
   "cell_type": "code",
   "execution_count": null,
   "metadata": {},
   "outputs": [],
   "source": []
  }
 ],
 "metadata": {
  "kernelspec": {
   "display_name": "Python 3",
   "language": "python",
   "name": "python3"
  },
  "language_info": {
   "codemirror_mode": {
    "name": "ipython",
    "version": 3
   },
   "file_extension": ".py",
   "mimetype": "text/x-python",
   "name": "python",
   "nbconvert_exporter": "python",
   "pygments_lexer": "ipython3",
   "version": "3.6.5"
  }
 },
 "nbformat": 4,
 "nbformat_minor": 2
}
