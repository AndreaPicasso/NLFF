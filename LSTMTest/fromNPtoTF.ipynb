{
 "cells": [
  {
   "cell_type": "code",
   "execution_count": 1,
   "metadata": {},
   "outputs": [
    {
     "name": "stdout",
     "output_type": "stream",
     "text": [
      "\n"
     ]
    },
    {
     "ename": "TypeError",
     "evalue": "load_csv_with_header() missing 1 required positional argument: 'features_dtype'",
     "output_type": "error",
     "traceback": [
      "\u001b[1;31m---------------------------------------------------------------------------\u001b[0m",
      "\u001b[1;31mTypeError\u001b[0m                                 Traceback (most recent call last)",
      "\u001b[1;32m<ipython-input-1-9e6adcdba7a6>\u001b[0m in \u001b[0;36m<module>\u001b[1;34m()\u001b[0m\n\u001b[0;32m      8\u001b[0m \u001b[1;31m# Load datasets.\u001b[0m\u001b[1;33m\u001b[0m\u001b[1;33m\u001b[0m\u001b[0m\n\u001b[0;32m      9\u001b[0m \u001b[0mprint\u001b[0m\u001b[1;33m(\u001b[0m\u001b[1;33m)\u001b[0m\u001b[1;33m\u001b[0m\u001b[0m\n\u001b[1;32m---> 10\u001b[1;33m \u001b[0mtraining_set\u001b[0m \u001b[1;33m=\u001b[0m \u001b[0mtf\u001b[0m\u001b[1;33m.\u001b[0m\u001b[0mcontrib\u001b[0m\u001b[1;33m.\u001b[0m\u001b[0mlearn\u001b[0m\u001b[1;33m.\u001b[0m\u001b[0mdatasets\u001b[0m\u001b[1;33m.\u001b[0m\u001b[0mbase\u001b[0m\u001b[1;33m.\u001b[0m\u001b[0mload_csv_with_header\u001b[0m\u001b[1;33m(\u001b[0m\u001b[0mfilename\u001b[0m\u001b[1;33m=\u001b[0m\u001b[0mIRIS_TRAINING\u001b[0m\u001b[1;33m,\u001b[0m \u001b[0mtarget_dtype\u001b[0m\u001b[1;33m=\u001b[0m\u001b[0mnp\u001b[0m\u001b[1;33m.\u001b[0m\u001b[0mint\u001b[0m\u001b[1;33m)\u001b[0m\u001b[1;33m\u001b[0m\u001b[0m\n\u001b[0m\u001b[0;32m     11\u001b[0m \u001b[1;31m#test_set = tf.contrib.learn.datasets.base.load_csv(filename=IRIS_TEST,  target_dtype=np.int)\u001b[0m\u001b[1;33m\u001b[0m\u001b[1;33m\u001b[0m\u001b[0m\n",
      "\u001b[1;31mTypeError\u001b[0m: load_csv_with_header() missing 1 required positional argument: 'features_dtype'"
     ]
    }
   ],
   "source": [
    "import tensorflow as tf\n",
    "import numpy as np\n",
    "\n",
    "# Data sets\n",
    "IRIS_TRAINING = r\"C:\\Users\\Utente\\Desktop\\NLFF\\NLFF\\DataSetIndexes\\indexesAAPL.csv\"\n",
    "IRIS_TEST = \"iris_test.csv\"\n",
    "\n",
    "# Load datasets.\n",
    "print()\n",
    "training_set = tf.contrib.learn.datasets.base.load_csv_with_header(filename=IRIS_TRAINING, features_dtype=np.int)\n",
    "#test_set = tf.contrib.learn.datasets.base.load_csv(filename=IRIS_TEST,  target_dtype=np.int)"
   ]
  },
  {
   "cell_type": "code",
   "execution_count": 40,
   "metadata": {},
   "outputs": [
    {
     "name": "stdout",
     "output_type": "stream",
     "text": [
      "['AAPL', 'ADBE', 'ADI', 'ADP', 'ADSK', 'AKAM', 'ALGN', 'ALXN', 'AMAT', 'AMGN', 'AMZN', 'ATVI', 'AVGO', 'BIDU', 'BIIB', 'BMRN', 'CA', 'CELG', 'CERN', 'CHTR', 'CMCSA', 'COST', 'CSCO', 'CSX', 'CTAS', 'CTRP', 'CTSH', 'CTXS', 'DISCA', 'DISH', 'DLTR', 'EA', 'EBAY', 'ESRX', 'EXPE', 'FAST', 'FB', 'FISV', 'FOXA', 'GILD', 'GOOGL', 'HAS', 'HOLX', 'HSIC', 'IDXX', 'ILMN', 'INCY', 'INTC', 'INTU', 'ISRG', 'JBHT', 'JD', 'KHC', 'KLAC', 'LBTYA', 'LRCX', 'MAR', 'MAT', 'MCHP', 'MDLZ', 'MELI', 'MNST', 'MSFT', 'MU', 'MXIM', 'MYL', 'NFLX', 'NTES', 'NVDA', 'ORLY', 'PAYX', 'PCAR', 'PCLN', 'PYPL', 'QCOM', 'REGN', 'ROST', 'SBUX', 'SHPG', 'SIRI', 'STX', 'SWKS', 'SYMC', 'TMUS', 'TSCO', 'TSLA', 'TXN', 'ULTA', 'VIAB', 'VOD', 'VRSK', 'VRTX', 'WBA', 'WYNN', 'XLNX', 'XRAY']\n",
      "Index(['open', 'high', 'low', 'close', 'volume', 'close_12_ema',\n",
      "       'close_26_ema', 'macd', 'macds', 'macdh', 'macd.1', 'macds.1',\n",
      "       'boll_ub', 'boll_lb', 'rsi_6', 'rsi_12', 'vr_6_sma', 'wr_10', 'wr_6'],\n",
      "      dtype='object')\n",
      "[[ 138.85        139.4         138.82       ...,           nan\n",
      "    49.98275862   49.98275862]\n",
      " [ 139.11        139.16        138.84       ...,    0.           58.62068966\n",
      "    58.62068966]\n",
      " [ 139.0587      139.09        138.86       ...,    0.           72.4137931\n",
      "    72.4137931 ]\n",
      " ..., \n",
      " [ 179.13        179.53        178.92       ...,  101.50558252\n",
      "     3.16819456    3.95845697]\n",
      " [ 179.5142      179.71        179.27       ...,  106.10210079\n",
      "     1.91780822    3.01724138]\n",
      " [ 179.65        180.          179.56       ...,  116.55288922\n",
      "     0.50761421    0.97087379]]\n"
     ]
    }
   ],
   "source": [
    "import pandas as pd\n",
    "import re \n",
    "import numpy as np\n",
    "from os import listdir\n",
    "newsFiles=list()\n",
    "files=list()\n",
    "newsFiles=listdir(r\"C:\\Users\\Utente\\Desktop\\NLFF\\NLFF\\intrinioDataset\")\n",
    "indexesFiles=listdir(r\"C:\\Users\\Utente\\Desktop\\NLFF\\NLFF\\DataSetIndexes\")\n",
    "#print(newsFiles)\n",
    "#print(indexesFiles)\n",
    "tickers=list()\n",
    "for file in indexesFiles:\n",
    "    file=re.sub('\\.csv$', '', file)\n",
    "    file=re.sub('indexes', '', file)\n",
    "    tickers.append(file)\n",
    "print(tickers)\n",
    "tickers=['AAPL']\n",
    "for ticker in tickers:\n",
    "    reader=pd.read_csv(r'C:\\Users\\Utente\\Desktop\\NLFF\\NLFF\\DataSetIndexes\\indexes'+ticker+'.csv')\n",
    "    col=reader.columns.delete(0)\n",
    "   \n",
    "\n",
    "    #col=re.sub(\"'Unnamed: 0',\", '', col)\n",
    "    print(col)\n",
    "    array=reader.as_matrix(columns=col)\n",
    "    \n",
    "    print(array)"
   ]
  },
  {
   "cell_type": "code",
   "execution_count": 41,
   "metadata": {},
   "outputs": [
    {
     "name": "stdout",
     "output_type": "stream",
     "text": [
      "(19,)\n"
     ]
    }
   ],
   "source": [
    "dataset = tf.contrib.data.Dataset.from_tensor_slices((array))\n",
    "print(dataset.output_shapes)\n"
   ]
  },
  {
   "cell_type": "code",
   "execution_count": null,
   "metadata": {
    "collapsed": true
   },
   "outputs": [],
   "source": []
  }
 ],
 "metadata": {
  "kernelspec": {
   "display_name": "Python 3",
   "language": "python",
   "name": "python3"
  },
  "language_info": {
   "codemirror_mode": {
    "name": "ipython",
    "version": 3
   },
   "file_extension": ".py",
   "mimetype": "text/x-python",
   "name": "python",
   "nbconvert_exporter": "python",
   "pygments_lexer": "ipython3",
   "version": "3.6.4"
  }
 },
 "nbformat": 4,
 "nbformat_minor": 2
}
