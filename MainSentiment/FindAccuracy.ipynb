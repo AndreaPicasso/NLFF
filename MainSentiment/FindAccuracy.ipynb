{
 "cells": [
  {
   "cell_type": "code",
   "execution_count": null,
   "metadata": {
    "collapsed": true
   },
   "outputs": [],
   "source": [
    "from plotHelperFunction import comparisonInfo\n",
    "import numpy as np\n",
    "import pandas as pd\n",
    "import matplotlib.pyplot as plt\n",
    "from sklearn import preprocessing\n",
    "from datetime import datetime, timedelta\n",
    "import re\n",
    "from os import listdir"
   ]
  },
  {
   "cell_type": "code",
   "execution_count": null,
   "metadata": {},
   "outputs": [],
   "source": [
    "indexesFiles=list()\n",
    "newsFiles=list()\n",
    "files=list()\n",
    "newsFiles=listdir(r\"C:\\Users\\Utente\\Desktop\\NLFF\\NLFF\\sentiment\\twitter-sent-dnn\\SentimentNews\")\n",
    "indexesFiles=listdir(r\"C:\\Users\\Utente\\Desktop\\NLFF\\NLFF\\DataSetIndexes\")\n",
    "#print(newsFiles)\n",
    "#print(indexesFiles)\n",
    "tickers=list()\n",
    "for file in indexesFiles:\n",
    "    file=re.sub('\\.csv$', '', file)\n",
    "    file=re.sub('indexes', '', file)\n",
    "    tickers.append(file)\n",
    "#print(tickers)"
   ]
  },
  {
   "cell_type": "code",
   "execution_count": null,
   "metadata": {},


   "outputs": [
    {
     "name": "stdout",
     "output_type": "stream",
     "text": [
      "aaaaaaaaaaaaaaaaaaaaaaaaaaaaaaaaaaaaaaaaaaaaaaaaaaaaaaaa\n",
      "48.705849450518386\n",
      "96\n",
      "0.5073525984428998\n",
      "bbbbbbbbbbbbbbbbbbbbbbbbbbbbbbbbbbbbbbbbbbbbbbbbbbbbbbbbbb\n",
      "Maxacc\n",
      "0.5073525984428998\n",
      "Maxprices\n",
      "5\n",
      "Maxinfos\n",
      "5\n",
      "-----------------------------------------\n",
      "aaaaaaaaaaaaaaaaaaaaaaaaaaaaaaaaaaaaaaaaaaaaaaaaaaaaaaaa\n",
      "49.42224008899452\n",
      "96\n",
      "0.5148150009270263\n",
      "bbbbbbbbbbbbbbbbbbbbbbbbbbbbbbbbbbbbbbbbbbbbbbbbbbbbbbbbbb\n",
      "Maxacc\n",
      "0.5148150009270263\n",
      "Maxprices\n",
      "5\n",
      "Maxinfos\n",
      "15\n",
      "-----------------------------------------\n",
      "aaaaaaaaaaaaaaaaaaaaaaaaaaaaaaaaaaaaaaaaaaaaaaaaaaaaaaaa\n",
      "49.93000819752068\n",
      "96\n",
      "0.5201042520575071\n",
      "bbbbbbbbbbbbbbbbbbbbbbbbbbbbbbbbbbbbbbbbbbbbbbbbbbbbbbbbbb\n",
      "Maxacc\n",
      "0.5201042520575071\n",
      "Maxprices\n",
      "5\n",
      "Maxinfos\n",
      "30\n",
      "-----------------------------------------\n",
      "aaaaaaaaaaaaaaaaaaaaaaaaaaaaaaaaaaaaaaaaaaaaaaaaaaaaaaaa\n",
      "49.85446352215867\n",
      "96\n",
      "0.5193173283558195\n",
      "bbbbbbbbbbbbbbbbbbbbbbbbbbbbbbbbbbbbbbbbbbbbbbbbbbbbbbbbbb\n",
      "aaaaaaaaaaaaaaaaaaaaaaaaaaaaaaaaaaaaaaaaaaaaaaaaaaaaaaaa\n",
      "49.49486650927038\n",
      "96\n",
      "0.5155715261382331\n",
      "bbbbbbbbbbbbbbbbbbbbbbbbbbbbbbbbbbbbbbbbbbbbbbbbbbbbbbbbbb\n",
      "aaaaaaaaaaaaaaaaaaaaaaaaaaaaaaaaaaaaaaaaaaaaaaaaaaaaaaaa\n",
      "48.02140701496691\n",
      "96\n",
      "0.5002229897392386\n",
      "bbbbbbbbbbbbbbbbbbbbbbbbbbbbbbbbbbbbbbbbbbbbbbbbbbbbbbbbbb\n",
      "aaaaaaaaaaaaaaaaaaaaaaaaaaaaaaaaaaaaaaaaaaaaaaaaaaaaaaaa\n",
      "48.82395937830536\n",
      "96\n",
      "0.5085829101906808\n",
      "bbbbbbbbbbbbbbbbbbbbbbbbbbbbbbbbbbbbbbbbbbbbbbbbbbbbbbbbbb\n",
      "aaaaaaaaaaaaaaaaaaaaaaaaaaaaaaaaaaaaaaaaaaaaaaaaaaaaaaaa\n",
      "49.80897598734745\n",
      "96\n",
      "0.5188434998682027\n",
      "bbbbbbbbbbbbbbbbbbbbbbbbbbbbbbbbbbbbbbbbbbbbbbbbbbbbbbbbbb\n",
      "aaaaaaaaaaaaaaaaaaaaaaaaaaaaaaaaaaaaaaaaaaaaaaaaaaaaaaaa\n",
      "50.03026161323336\n",
      "96\n",
      "0.5211485584711808\n",
      "bbbbbbbbbbbbbbbbbbbbbbbbbbbbbbbbbbbbbbbbbbbbbbbbbbbbbbbbbb\n",
      "Maxacc\n",
      "0.5211485584711808\n",
      "Maxprices\n",
      "15\n",
      "Maxinfos\n",
      "50\n",
      "-----------------------------------------\n",
      "aaaaaaaaaaaaaaaaaaaaaaaaaaaaaaaaaaaaaaaaaaaaaaaaaaaaaaaa\n",
      "49.67363157546812\n",
      "96\n",
      "0.5174336622444596\n",
      "bbbbbbbbbbbbbbbbbbbbbbbbbbbbbbbbbbbbbbbbbbbbbbbbbbbbbbbbbb\n",
      "aaaaaaaaaaaaaaaaaaaaaaaaaaaaaaaaaaaaaaaaaaaaaaaaaaaaaaaa\n",
      "47.96525726354702\n",
      "96\n",
      "0.4996380964952814\n",
      "bbbbbbbbbbbbbbbbbbbbbbbbbbbbbbbbbbbbbbbbbbbbbbbbbbbbbbbbbb\n",
      "aaaaaaaaaaaaaaaaaaaaaaaaaaaaaaaaaaaaaaaaaaaaaaaaaaaaaaaa\n",
      "48.407479883574155\n",
      "96\n",
      "0.5042445821205641\n",
      "bbbbbbbbbbbbbbbbbbbbbbbbbbbbbbbbbbbbbbbbbbbbbbbbbbbbbbbbbb\n",
      "aaaaaaaaaaaaaaaaaaaaaaaaaaaaaaaaaaaaaaaaaaaaaaaaaaaaaaaa\n",
      "49.11642091002563\n",
      "96\n",
      "0.5116293844794336\n",
      "bbbbbbbbbbbbbbbbbbbbbbbbbbbbbbbbbbbbbbbbbbbbbbbbbbbbbbbbbb\n",
      "aaaaaaaaaaaaaaaaaaaaaaaaaaaaaaaaaaaaaaaaaaaaaaaaaaaaaaaa\n",
      "50.05195337902373\n",
      "96\n",
      "0.5213745143648305\n",
      "bbbbbbbbbbbbbbbbbbbbbbbbbbbbbbbbbbbbbbbbbbbbbbbbbbbbbbbbbb\n",
      "Maxacc\n",
      "0.5213745143648305\n",
      "Maxprices\n",
      "30\n",
      "Maxinfos\n",
      "50\n",
      "-----------------------------------------\n",
      "aaaaaaaaaaaaaaaaaaaaaaaaaaaaaaaaaaaaaaaaaaaaaaaaaaaaaaaa\n",
      "49.95482555977658\n",
      "96\n",
      "0.5203627662476727\n",
      "bbbbbbbbbbbbbbbbbbbbbbbbbbbbbbbbbbbbbbbbbbbbbbbbbbbbbbbbbb\n",
      "aaaaaaaaaaaaaaaaaaaaaaaaaaaaaaaaaaaaaaaaaaaaaaaaaaaaaaaa\n",
      "47.52175346834305\n",
      "96\n",
      "0.4950182652952401\n",
      "bbbbbbbbbbbbbbbbbbbbbbbbbbbbbbbbbbbbbbbbbbbbbbbbbbbbbbbbbb\n",
      "aaaaaaaaaaaaaaaaaaaaaaaaaaaaaaaaaaaaaaaaaaaaaaaaaaaaaaaa\n",
      "48.09246956684603\n",
      "96\n",
      "0.5009632246546462\n",
      "bbbbbbbbbbbbbbbbbbbbbbbbbbbbbbbbbbbbbbbbbbbbbbbbbbbbbbbbbb\n",
      "aaaaaaaaaaaaaaaaaaaaaaaaaaaaaaaaaaaaaaaaaaaaaaaaaaaaaaaa\n",
      "48.74902988418447\n",
      "96\n",
      "0.5078023946269216\n",
      "bbbbbbbbbbbbbbbbbbbbbbbbbbbbbbbbbbbbbbbbbbbbbbbbbbbbbbbbbb\n",
      "aaaaaaaaaaaaaaaaaaaaaaaaaaaaaaaaaaaaaaaaaaaaaaaaaaaaaaaa\n",
      "49.52794401261317\n",
      "96\n",
      "0.5159160834647205\n",
      "bbbbbbbbbbbbbbbbbbbbbbbbbbbbbbbbbbbbbbbbbbbbbbbbbbbbbbbbbb\n",
      "aaaaaaaaaaaaaaaaaaaaaaaaaaaaaaaaaaaaaaaaaaaaaaaaaaaaaaaa\n",
      "50.116124594426665\n",
      "96\n",
      "0.5220429645252778\n",
      "bbbbbbbbbbbbbbbbbbbbbbbbbbbbbbbbbbbbbbbbbbbbbbbbbbbbbbbbbb\n",
      "Maxacc\n",
      "0.5220429645252778\n",
      "Maxprices\n",
      "50\n",
      "Maxinfos\n",
      "90\n",
      "-----------------------------------------\n",
      "aaaaaaaaaaaaaaaaaaaaaaaaaaaaaaaaaaaaaaaaaaaaaaaaaaaaaaaa\n",
      "47.75810665642222\n",
      "96\n",
      "0.4974802776710648\n",
      "bbbbbbbbbbbbbbbbbbbbbbbbbbbbbbbbbbbbbbbbbbbbbbbbbbbbbbbbbb\n",
      "aaaaaaaaaaaaaaaaaaaaaaaaaaaaaaaaaaaaaaaaaaaaaaaaaaaaaaaa\n",
      "48.16294660478717\n",
      "96\n",
      "0.501697360466533\n",
      "bbbbbbbbbbbbbbbbbbbbbbbbbbbbbbbbbbbbbbbbbbbbbbbbbbbbbbbbbb\n",
      "aaaaaaaaaaaaaaaaaaaaaaaaaaaaaaaaaaaaaaaaaaaaaaaaaaaaaaaa\n",
      "48.54231456142189\n",
      "96\n",
      "0.5056491100148114\n",
      "bbbbbbbbbbbbbbbbbbbbbbbbbbbbbbbbbbbbbbbbbbbbbbbbbbbbbbbbbb\n",
      "aaaaaaaaaaaaaaaaaaaaaaaaaaaaaaaaaaaaaaaaaaaaaaaaaaaaaaaa\n",
      "48.951577905309925\n",
      "96\n",
      "0.5099122698469783\n",
      "bbbbbbbbbbbbbbbbbbbbbbbbbbbbbbbbbbbbbbbbbbbbbbbbbbbbbbbbbb\n",
      "aaaaaaaaaaaaaaaaaaaaaaaaaaaaaaaaaaaaaaaaaaaaaaaaaaaaaaaa\n",
      "50.19457463723973\n",
      "96\n",
      "0.5228601524712472\n",
      "bbbbbbbbbbbbbbbbbbbbbbbbbbbbbbbbbbbbbbbbbbbbbbbbbbbbbbbbbb\n",
      "Maxacc\n",
      "0.5228601524712472\n",
      "Maxprices\n",
      "90\n",
      "Maxinfos\n",
      "90\n",
      "-----------------------------------------\n"
     ]
    }
   ],

   "source": [
    "#tickers=[\"AAPL\",\"FB\"]\n",
    "infos=list()\n",
    "prices=list()\n",
    "infos=[5,15,30,50,90]\n",
    "prices=[5,15,30,50,90]\n",
    "maxacc=0\n",
    "maxprices=0\n",
    "maxinfos=0\n",
    "\n",
    "for price in prices:\n",
    "    for info in infos:\n",
    "        finalAccuracy=list()\n",
    "        for ticker in tickers:\n",
    "            dic = comparisonInfo(r\"C:\\Users\\Utente\\Desktop\\NLFF\\NLFF\\DataSetIndexes\\indexes\"+ticker+\".csv\", r\"C:\\Users\\Utente\\Desktop\\NLFF\\NLFF\\sentiment\\twitter-sent-dnn\\SentimentNews\\\\\"+ticker+\".csv\", 'sentiment', 'initTime', info, price)\n",
    "\n",
    "            accuracy=dic['accuracy']\n",
    "            \n",
    "            result=0\n",
    "            tot=0\n",
    "            for a in accuracy:\n",
    "                if(not np.isnan(a)):    \n",
    "                    if(a>0):\n",
    "                        result=result+1\n",
    "                    tot=tot+1\n",
    "            finalResult=result/tot    \n",
    "            #print(finalResult)\n",
    "            finalAccuracy.append(finalResult)\n",
    "            print(finalResult)\n",
    "            print(finalAccuracy)\n",
    "            #plt.figure(figsize=(20,10))\n",
    "            #plt.plot(dic['priceAverageMean'],'b',dic['sentimentAverageMean'],'y',dic['accuracy'],'g',dic['zeros'],'r')\n",
    "            #plt.show()\n",
    "        #print(\"----------\")\n",
    "        #print(sum(finalAccuracy))\n",
    "        #print(len(finalAccuracy))\n",
    "        #print(\"----------\")\n",
    "        \n",
    "        result=sum(finalAccuracy)/len(finalAccuracy)\n",

    "        print(\"RESULTTTTTTTTT\")\n",
    "        print(result)\n",

    "        print(\"aaaaaaaaaaaaaaaaaaaaaaaaaaaaaaaaaaaaaaaaaaaaaaaaaaaaaaaa\")\n",
    "        print(sum(finalAccuracy))\n",
    "        print(len(finalAccuracy))\n",
    "        print(result)\n",
    "        print(\"bbbbbbbbbbbbbbbbbbbbbbbbbbbbbbbbbbbbbbbbbbbbbbbbbbbbbbbbbb\")\n",
    "\n",

    "        if(result>maxacc):\n",
    "            maxacc=result\n",
    "            maxprices=price\n",
    "            maxinfos=info\n",
    "            print(\"Maxacc\")\n",
    "            print(maxacc)\n",
    "            print(\"Maxprices\")\n",
    "            print(price)\n",
    "            print(\"Maxinfos\")\n",
    "            print(info)\n",
    "            print(\"-----------------------------------------\")\n",
    "            "
   ]
  },
  {
   "cell_type": "code",
   "execution_count": null,
   "metadata": {},

   "outputs": [
    {
     "name": "stdout",
     "output_type": "stream",
     "text": [
      "0.5228601524712472\n"
     ]
    }
   ],
>>>>>>> andreaDev
   "source": [
    "result=sum(finalAccuracy)/len(finalAccuracy)\n",
    "print(result)"
   ]
  },
  {
   "cell_type": "code",
   "execution_count": null,
   "metadata": {},

   "outputs": [
    {
     "name": "stdout",
     "output_type": "stream",
     "text": [
      "0.5228601524712472\n"
     ]
    }
   ],

   "source": [
    "print(maxacc)"
   ]
  },
  {
   "cell_type": "code",
   "execution_count": null,
   "metadata": {},

   "outputs": [
    {
     "name": "stdout",
     "output_type": "stream",
     "text": [
      "90\n",
      "90\n"
     ]
    }
   ],

   "source": [
    "print(maxprices)\n",
    "print(maxinfos)"
   ]
  },
  {
   "cell_type": "code",
   "execution_count": null,
   "metadata": {
    "collapsed": true
   },
   "outputs": [],
   "source": []
  },
  {
   "cell_type": "code",
   "execution_count": null,
   "metadata": {
    "collapsed": true
   },
   "outputs": [],
   "source": []
  },
  {
   "cell_type": "code",
   "execution_count": null,
   "metadata": {
    "collapsed": true
   },
   "outputs": [],
   "source": []
  },
  {
   "cell_type": "code",
   "execution_count": null,
   "metadata": {
    "collapsed": true
   },
   "outputs": [],
   "source": []
  }
 ],
 "metadata": {
  "kernelspec": {
   "display_name": "Python 3",
   "language": "python",
   "name": "python3"
  },
  "language_info": {
   "codemirror_mode": {
    "name": "ipython",
    "version": 3
   },
   "file_extension": ".py",
   "mimetype": "text/x-python",
   "name": "python",
   "nbconvert_exporter": "python",
   "pygments_lexer": "ipython3",
   "version": "3.6.1"
  }
 },
 "nbformat": 4,
 "nbformat_minor": 2
}
