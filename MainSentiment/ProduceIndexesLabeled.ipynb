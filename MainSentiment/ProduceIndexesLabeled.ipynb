{
 "cells": [
  {
   "cell_type": "code",
   "execution_count": 6,
   "metadata": {},
   "outputs": [
    {
     "name": "stderr",
     "output_type": "stream",
     "text": [
      "C:\\Program Files (x86)\\Microsoft Visual Studio\\Shared\\Anaconda3_86\\lib\\site-packages\\pandas\\core\\indexing.py:179: SettingWithCopyWarning: \n",
      "A value is trying to be set on a copy of a slice from a DataFrame\n",
      "\n",
      "See the caveats in the documentation: http://pandas.pydata.org/pandas-docs/stable/indexing.html#indexing-view-versus-copy\n",
      "  self._setitem_with_indexer(indexer, value)\n"
     ]
    },
    {
     "name": "stdout",
     "output_type": "stream",
     "text": [
      "AAPL\n",
      "AMZN\n",
      "PEP\n",
      "GOOGL\n",
      "MSFT\n",
      "FB\n",
      "INTC\n",
      "CSCO\n",
      "CMCSA\n",
      "NVDA\n",
      "NFLX\n",
      "BKNG\n",
      "ADBE\n",
      "AMGN\n",
      "TXN\n",
      "AVGO\n",
      "PYPL\n",
      "GILD\n",
      "COST\n",
      "QCOM\n"
     ]
    }
   ],
   "source": [
    "import pandas as pd\n",
    "import re\n",
    "from os import listdir\n",
    "import numpy as np\n",
    "from stockstats import StockDataFrame \n",
    "from googlefinance.client import get_price_data, get_prices_data, get_prices_time_data\n",
    "#files=list()\n",
    "#files=listdir('/home/andrea/Desktop/NLFF/intrinioDataset')\n",
    "files=['AAPL','AMZN','PEP','GOOGL','MSFT','FB','INTC','CSCO','CMCSA','NVDA','NFLX','BKNG','ADBE','AMGN','TXN','AVGO','PYPL','GILD','COST','QCOM']       \n",
    "for file in files:\n",
    "    param = {\n",
    "        'q': file, # Stock symbol (ex: \"AAPL\")\n",
    "        #'i': \"900\", # Interval size in seconds (\"86400\" = 1 day intervals)\n",
    "        'i': \"10800\", # Interval size in seconds (\"12600\" = 1/2 day intervals (3.5 hours))\n",
    "        \n",
    "        'x': \"NASD\", # INDEXNASDAQStock exchange symbol on which stock is traded (ex: \"NASD\")\n",
    "        'p': \"2Y\" # Period (Ex: \"1Y\" = 1 year)\n",
    "        }\n",
    "    priceData = get_price_data(param)\n",
    "    stock = StockDataFrame.retype(priceData)\n",
    "    price = pd.DataFrame(stock)\n",
    "    #string=['close_2_sma','close_4_sma','close_6_sma','close_8_sma','close_10_sma','close_12_sma','close_14_sma','close_16_sma','close_18_sma','pdi','mdi','dx','adx','adxr','cr','cr-ma1','cr-ma2','cr-ma3','boll','boll_ub','boll_lb','volume_-2_d','volume_-4_d','volume_-6_d','volume_-8_d','volume_-10_d','volume_-12_d','macd','macds','macdh','kdjk','kdjd','kdjj','tr','atr','wr_2','wr_10','wr_6','wr_8','wr_12','wr_14','close_-2_d','close_-4_d','close_-6_d','close_-8_d','close_-10_d','close_-12_d','close_-14_d','close_-16_d','rsi_2','rsi_4','rsi_6','rsi_8','rsi_10','rsi_12','rsi_14','rsi_16']\n",
    "    string=['close_2_sma','close_4_sma','close_6_sma','close_8_sma','close_10_sma','close_12_sma','close_14_sma','close_16_sma','close_18_sma','pdi','mdi','dx','adx','adxr','cr','cr-ma1','cr-ma2','cr-ma3','boll','boll_ub','boll_lb','volume_-2_d','volume_-4_d','volume_-6_d','volume_-8_d','volume_-10_d','volume_-12_d','macd','macds','macdh','kdjk','kdjd','kdjj','tr','atr','wr_2','wr_10','wr_6','wr_8','wr_12','wr_14','close_-2_d','close_-4_d','close_-6_d','close_-8_d','close_-10_d','close_-12_d','close_-14_d','close_-16_d','rsi_2','rsi_4','rsi_6','rsi_8','rsi_10','rsi_12','rsi_14','rsi_16']\n",
    "    stock.get(string)\n",
    "    price = stock\n",
    "   \n",
    "    \n",
    "    if(len(price)>0):\n",
    "        price.to_csv('C:/Users/simone/Desktop/NLFF/DataSetIndexesTwiceADay/indexes'+file+'.csv')\n",
    "        print(file)\n",
    "    else:\n",
    "        print(\"Non trovato \"+file)       \n",
    "    \n",
    "    "
   ]
  },
  {
   "cell_type": "code",
   "execution_count": 4,
   "metadata": {
    "collapsed": true
   },
   "outputs": [],
   "source": [
    "import pandas as pd\n",
    "import re\n",
    "from os import listdir\n",
    "import numpy as np\n",
    "from stockstats import StockDataFrame \n",
    "from googlefinance.client import get_price_data, get_prices_data, get_prices_time_data"
   ]
  },
  {
   "cell_type": "code",
   "execution_count": null,
   "metadata": {
    "collapsed": true
   },
   "outputs": [],
   "source": [
    "    param = {\n",
    "    'q': \"AAPL\", # Stock symbol (ex: \"AAPL\")\n",
    "    'i': \"10\", # Interval size in seconds (\"86400\" = 1 day intervals)\n",
    "    'x': \"NASD\", # INDEXNASDAQStock exchange symbol on which stock is traded (ex: \"NASD\")\n",
    "    'p': \"1d\" # Period (Ex: \"1Y\" = 1 year)\n",
    "    }\n",
    "   \n",
    "    # link to doc http://www.networkerror.org/component/content/article/1-technical-wootness/44-googles-undocumented-finance-api.html\n",
    "    # get price data (return pandas dataframe) 1465948800\n",
    "    priceData = get_price_data(param)\n",
    "    #print(priceData)\n",
    "    stock = StockDataFrame.retype(priceData)\n",
    "    stock.tail(10000)"
   ]
  },
  {
   "cell_type": "code",
   "execution_count": 7,
   "metadata": {
    "collapsed": true
   },
   "outputs": [],
   "source": [
    "\n",
    "from datetime import datetime, timedelta\n",
    "import matplotlib.pyplot as plt\n",
    "\n",
    "news = pd.read_csv('/home/simone/Desktop/NLFF/intrinioDataset/AAPL.csv')\n",
    "news['PUBLICATION_DATE'] = [datetime.strptime(row, '%Y-%m-%d %H:%M:%S +%f') for row in news['PUBLICATION_DATE']]\n"
   ]
  },
  {
   "cell_type": "code",
   "execution_count": 8,
   "metadata": {
    "collapsed": true
   },
   "outputs": [],
   "source": [
    "news['PUBLICATION_DATE'] = [datetime.strftime(row, \"%H:%M:%S\") for row in news['PUBLICATION_DATE']]\n",
    "\n"
   ]
  },
  {
   "cell_type": "code",
   "execution_count": 9,
   "metadata": {},
   "outputs": [
    {
     "data": {
      "text/plain": [
       "<matplotlib.axes._subplots.AxesSubplot at 0x7fd6d94845c0>"
      ]
     },
     "execution_count": 9,
     "metadata": {},
     "output_type": "execute_result"
    },
    {
     "data": {
      "image/png": "[encoded data removed]",
      "text/plain": [
       "<matplotlib.figure.Figure at 0x7fd70d323400>"
      ]
     },
     "metadata": {},
     "output_type": "display_data"
    }
   ],
   "source": [
    "news['PUBLICATION_DATE'].hist(figsize=(20,10))"
   ]
  },
  {
   "cell_type": "code",
   "execution_count": null,
   "metadata": {
    "collapsed": true
   },
   "outputs": [],
   "source": []
  }
 ],
 "metadata": {
  "kernelspec": {
   "display_name": "Python 3",
   "language": "python",
   "name": "python3"
  },
  "language_info": {
   "codemirror_mode": {
    "name": "ipython",
    "version": 3
   },
   "file_extension": ".py",
   "mimetype": "text/x-python",
   "name": "python",
   "nbconvert_exporter": "python",
   "pygments_lexer": "ipython3",
   "version": "3.6.2"
  }
 },
 "nbformat": 4,
 "nbformat_minor": 1
}
