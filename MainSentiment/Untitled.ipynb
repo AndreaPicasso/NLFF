{
 "cells": [
  {
   "cell_type": "code",
   "execution_count": null,
   "metadata": {
    "collapsed": true
   },
   "outputs": [],
   "source": [
    "from plotHelperFunction import comparisonInfo\n",
    "import numpy as np\n",
    "import pandas as pd\n",
    "import matplotlib.pyplot as plt\n",
    "from sklearn import preprocessing\n",
    "from datetime import datetime, timedelta\n",
    "import re\n",
    "from os import listdir"
   ]
  },
  {
   "cell_type": "code",
   "execution_count": null,
   "metadata": {
    "collapsed": true
   },
   "outputs": [],
   "source": [
    "indexesFiles=list()\n",
    "newsFiles=list()\n",
    "files=list()\n",
    "newsFiles=listdir(r\"C:\\Users\\Utente\\Desktop\\NLFF\\NLFF\\intrinioDataset\")\n",
    "indexesFiles=listdir(r\"C:\\Users\\Utente\\Desktop\\NLFF\\NLFF\\DataSetIndexes\")\n",
    "#print(newsFiles)\n",
    "#print(indexesFiles)\n",
    "tickers=list()\n",
    "for file in indexesFiles:\n",
    "    file=re.sub('\\\\.csv$', '', file)\n",
    "    file=re.sub('indexes', '', file)\n",
    "    tickers.append(file)\n",
    "#print(tickers)\""
   ]
  },
  {
   "cell_type": "code",
   "execution_count": null,
   "metadata": {},
   "outputs": [],
   "source": [
    "#tickers=[\\\"AAPL\\\",\\\"FB\\\"]\n",
    "infos=list()\n",
    "prices=list()\n",
    "infos=[5,10,15,30,50]\n",
    "prices=[5,15,30,50,90]\n",
    "maxacc=0\n",
    "maxprices=0\n",
    "maxinfos=0\n",
    "\n",
    "for price in prices:\n",
    "    for info in infos:\n",
    "        finalAccuracy=list()\n",
    "        for ticker in tickers:\n",
    "            dic = comparisonInfo(r\"C:\\Users\\Utente\\Desktop\\NLFF\\NLFF\\DataSetIndexes\\indexes\"+ticker+\".csv\", r\"C:\\Users\\Utente\\Desktop\\NLFF\\NLFF\\DataSetSentiment20\\sentiment20minutes\"+ticker+\".csv\", 'sentiment', 'initTime', info, price)\n",
    "            accuracy=dic['accuracy']\n",
    "\n",
    "            result=0\n",
    "            tot=0\n",
    "            for a in accuracy:\n",
    "                if(not np.isnan(a)):    \n",
    "                    if(a>0):\n",
    "                        result=result+1\n",
    "                tot=tot+1\n",
    "            finalResult=result/tot    \n",
    "            #print(finalResult)\n",
    "            finalAccuracy.append(finalResult)\n",
    "            #print(finalResult)\n",
    "            #print(finalAccuracy)\n",
    "            plt.figure(figsize=(20,10))\n",
    "            plt.plot(dic['priceAverageMean'],'b',dic['sentimentAverageMean'],'y',dic['accuracy'],'g',dic['zeros'],'r')\n",
    "            plt.show()\n",
    "        #print(\\\"----------\\\")\n",
    "        #print(sum(finalAccuracy))\n",
    "        #print(len(finalAccuracy))\n",
    "        #print(\\\"----------\\\")\n",
    "\n",
    "        result=sum(finalAccuracy)/len(finalAccuracy)\n",
    "\n",
    "        print(\"RESULTTTTTTTTT\")\n",
    "        print(result)\n",
    "\n",
    "        print(\"aaaaaaaaaaaaaaaaaaaaaaaaaaaaaaaaaaaaaaaaaaaaaaaaaaaaaaaa\")\n",
    "        #print(sum(finalAccuracy))\n",
    "        #print(len(finalAccuracy))\n",
    "        #print(result)\n",
    "        #print(\"bbbbbbbbbbbbbbbbbbbbbbbbbbbbbbbbbbbbbbbbbbbbbbbbbbbbbbbbbb\")\n",
    "\n",
    "\n",
    "        if(result>maxacc):\n",
    "            maxacc=result\n",
    "            maxprices=price\n",
    "            maxinfos=info\n",
    "            print(\"Maxacc\")\n",
    "            print(maxacc)\n",
    "            print(\"Maxprices\")\n",
    "            print(price)\n",
    "            print(\"Maxinfos\")\n",
    "            print(info)\n",
    "            print(\"-----------------------------------------\")\n"
   ]
  },
  {
   "cell_type": "code",
   "execution_count": null,
   "metadata": {
    "collapsed": true
   },
   "outputs": [],
   "source": [
    "result=sum(finalAccuracy)/len(finalAccuracy)\n",
    "print(result)"
   ]
  },
  {
   "cell_type": "code",
   "execution_count": null,
   "metadata": {
    "collapsed": true
   },
   "outputs": [],
   "source": [
    "print(maxacc)\n",
    "print(maxprices)\n",
    "print(maxinfos)"
   ]
  }
 ],
 "metadata": {
  "kernelspec": {
   "display_name": "Python 3",
   "language": "python",
   "name": "python3"
  },
  "language_info": {
   "codemirror_mode": {
    "name": "ipython",
    "version": 3
   },
   "file_extension": ".py",
   "mimetype": "text/x-python",
   "name": "python",
   "nbconvert_exporter": "python",
   "pygments_lexer": "ipython3",
   "version": "3.6.4"
  }
 },
 "nbformat": 4,
 "nbformat_minor": 2
}
