{
 "cells": [
  {
   "cell_type": "code",
   "execution_count": 15,
   "metadata": {},
   "outputs": [
    {
     "name": "stderr",
     "output_type": "stream",
     "text": [
      "C:\\Users\\Utente\\Anaconda3\\lib\\site-packages\\IPython\\core\\interactiveshell.py:2881: DtypeWarning: Columns (63,108,109,110,176) have mixed types. Specify dtype option on import or set low_memory=False.\n",
      "  exec(code_obj, self.user_global_ns, self.user_ns)\n"
     ]
    },
    {
     "name": "stdout",
     "output_type": "stream",
     "text": [
      "object\n",
      "datetime64[ns]\n"
     ]
    },
    {
     "ename": "AttributeError",
     "evalue": "'Series' object has no attribute 'timetuple'",
     "output_type": "error",
     "traceback": [
      "\u001b[1;31m---------------------------------------------------------------------------\u001b[0m",
      "\u001b[1;31mAttributeError\u001b[0m                            Traceback (most recent call last)",
      "\u001b[1;32m<ipython-input-15-a5beff4a16a2>\u001b[0m in \u001b[0;36m<module>\u001b[1;34m()\u001b[0m\n\u001b[0;32m     14\u001b[0m \u001b[1;32mimport\u001b[0m \u001b[0mdatetime\u001b[0m\u001b[1;33m,\u001b[0m \u001b[0mtime\u001b[0m\u001b[1;33m\u001b[0m\u001b[0m\n\u001b[0;32m     15\u001b[0m \u001b[1;33m\u001b[0m\u001b[0m\n\u001b[1;32m---> 16\u001b[1;33m \u001b[0mtime\u001b[0m\u001b[1;33m.\u001b[0m\u001b[0mmktime\u001b[0m\u001b[1;33m(\u001b[0m\u001b[0mf_time\u001b[0m\u001b[1;33m.\u001b[0m\u001b[0mtimetuple\u001b[0m\u001b[1;33m(\u001b[0m\u001b[1;33m)\u001b[0m\u001b[1;33m)\u001b[0m\u001b[1;33m\u001b[0m\u001b[0m\n\u001b[0m\u001b[0;32m     17\u001b[0m \u001b[0mprint\u001b[0m\u001b[1;33m(\u001b[0m\u001b[0mt\u001b[0m\u001b[1;33m+\u001b[0m\u001b[0mt\u001b[0m\u001b[1;33m.\u001b[0m\u001b[0mdtype\u001b[0m\u001b[1;33m)\u001b[0m\u001b[1;33m\u001b[0m\u001b[0m\n",
      "\u001b[1;32mC:\\Users\\Utente\\Anaconda3\\lib\\site-packages\\pandas\\core\\generic.py\u001b[0m in \u001b[0;36m__getattr__\u001b[1;34m(self, name)\u001b[0m\n\u001b[0;32m   2968\u001b[0m             \u001b[1;32mif\u001b[0m \u001b[0mname\u001b[0m \u001b[1;32min\u001b[0m \u001b[0mself\u001b[0m\u001b[1;33m.\u001b[0m\u001b[0m_info_axis\u001b[0m\u001b[1;33m:\u001b[0m\u001b[1;33m\u001b[0m\u001b[0m\n\u001b[0;32m   2969\u001b[0m                 \u001b[1;32mreturn\u001b[0m \u001b[0mself\u001b[0m\u001b[1;33m[\u001b[0m\u001b[0mname\u001b[0m\u001b[1;33m]\u001b[0m\u001b[1;33m\u001b[0m\u001b[0m\n\u001b[1;32m-> 2970\u001b[1;33m             \u001b[1;32mreturn\u001b[0m \u001b[0mobject\u001b[0m\u001b[1;33m.\u001b[0m\u001b[0m__getattribute__\u001b[0m\u001b[1;33m(\u001b[0m\u001b[0mself\u001b[0m\u001b[1;33m,\u001b[0m \u001b[0mname\u001b[0m\u001b[1;33m)\u001b[0m\u001b[1;33m\u001b[0m\u001b[0m\n\u001b[0m\u001b[0;32m   2971\u001b[0m \u001b[1;33m\u001b[0m\u001b[0m\n\u001b[0;32m   2972\u001b[0m     \u001b[1;32mdef\u001b[0m \u001b[0m__setattr__\u001b[0m\u001b[1;33m(\u001b[0m\u001b[0mself\u001b[0m\u001b[1;33m,\u001b[0m \u001b[0mname\u001b[0m\u001b[1;33m,\u001b[0m \u001b[0mvalue\u001b[0m\u001b[1;33m)\u001b[0m\u001b[1;33m:\u001b[0m\u001b[1;33m\u001b[0m\u001b[0m\n",
      "\u001b[1;31mAttributeError\u001b[0m: 'Series' object has no attribute 'timetuple'"
     ]
    }
   ],
   "source": [
    "import pandas as pd\n",
    "import matplotlib.pyplot as plt\n",
    "from stockstats import StockDataFrame \n",
    "import numpy as np\n",
    "import pysentiment as ps\n",
    "hiv4 = ps.HIV4()\n",
    "data=pd.read_csv(\"AAPL.csv\")\n",
    "data_sum=data[\"SUMMARY\"]\n",
    "data_time=data[\"PUBLICATION_DATE\"]\n",
    "#print(data_time)\n",
    "print(data_time.dtypes)\n",
    "f_time=pd.to_datetime(data_time)\n",
    "print(f_time.dtypes)\n",
    "import datetime, time\n",
    "\n",
    "time.mktime(f_time.timetuple())\n",
    "print(t+t.dtype)"
   ]
  },
  {
   "cell_type": "code",
   "execution_count": null,
   "metadata": {
    "collapsed": true
   },
   "outputs": [],
   "source": [
    "sentiment=np.array([])\n",
    "score=np.array([])\n",
    "for row in data_sum.T.iteritems():\n",
    "    tokens = hiv4.tokenize(row[1] )\n",
    "    score = hiv4.get_score(tokens)\n",
    "    print(score)\n",
    "    sub=np.multiply(score['Subjectivity'],10000)\n",
    "    f_score=np.multiply(score['Polarity'],sub)\n",
    "    f_score=np.multiply(f_score,0.001)\n",
    "    sentiment=np.append(sentiment,f_score)\n",
    "    \n",
    "    #sentiment.append(score,axis=0)\n",
    "    #sentiment.add(score)\n",
    "    #sentiment=np.concatenate(sentiment , score)\n",
    "    #score=pd.concat([score, hiv4.get_score(tokens)], axis=0)\n",
    "    \n",
    "   \n",
    "\n",
    "\n",
    " # text can be tokenized by other ways\n",
    "                                  # however, dict in HIV4 is preprocessed\n",
    "                                  # by the default tokenizer in the library\n",
    "\n",
    "\n"
   ]
  },
  {
   "cell_type": "code",
   "execution_count": 6,
   "metadata": {},
   "outputs": [
    {
     "name": "stdout",
     "output_type": "stream",
     "text": [
      "[-0.5         0.33333333 -0.42857143 ..., -0.2         0.          1.        ]\n"
     ]
    }
   ],
   "source": [
    "print(sentiment)"
   ]
  },
  {
   "cell_type": "code",
   "execution_count": 7,
   "metadata": {},
   "outputs": [
    {
     "name": "stdout",
     "output_type": "stream",
     "text": [
      "[-0.5         0.33333333 -0.42857143 ..., -0.2         0.          1.        ]\n"
     ]
    }
   ],
   "source": [
    "sentiment=np.transpose(sentiment)\n",
    "print(sentiment)"
   ]
  },
  {
   "cell_type": "code",
   "execution_count": 8,
   "metadata": {},
   "outputs": [
    {
     "name": "stdout",
     "output_type": "stream",
     "text": [
      "          open\n",
      "0    -0.500000\n",
      "1     0.333333\n",
      "2    -0.428571\n",
      "3    -0.428571\n",
      "4     1.000000\n",
      "5     0.500000\n",
      "6     0.500000\n",
      "7     1.000000\n",
      "8     0.000000\n",
      "9     0.250000\n",
      "10    0.000000\n",
      "11   -0.600000\n",
      "12    0.000000\n",
      "13    1.000000\n",
      "14    0.333333\n",
      "15    0.000000\n",
      "16    1.000000\n",
      "17    0.428571\n",
      "18    0.000000\n",
      "19    1.000000\n",
      "20    0.500000\n",
      "21    0.000000\n",
      "22    0.000000\n",
      "23    0.000000\n",
      "24    0.666667\n",
      "25    0.000000\n",
      "26    0.333333\n",
      "27    0.333333\n",
      "28   -1.000000\n",
      "29    0.500000\n",
      "...        ...\n",
      "9970 -1.000000\n",
      "9971  1.000000\n",
      "9972  0.333333\n",
      "9973 -0.333333\n",
      "9974  1.000000\n",
      "9975  0.600000\n",
      "9976  0.333333\n",
      "9977  1.000000\n",
      "9978  1.000000\n",
      "9979  0.000000\n",
      "9980  0.000000\n",
      "9981  1.000000\n",
      "9982  1.000000\n",
      "9983  1.000000\n",
      "9984 -1.000000\n",
      "9985  1.000000\n",
      "9986  1.000000\n",
      "9987  0.000000\n",
      "9988  0.000000\n",
      "9989  1.000000\n",
      "9990 -0.333333\n",
      "9991 -0.500000\n",
      "9992  1.000000\n",
      "9993 -1.000000\n",
      "9994 -0.142857\n",
      "9995  1.000000\n",
      "9996 -1.000000\n",
      "9997 -0.200000\n",
      "9998  0.000000\n",
      "9999  1.000000\n",
      "\n",
      "[10000 rows x 1 columns]\n"
     ]
    }
   ],
   "source": [
    "columns=[]\n",
    "\n",
    "sentiment= pd.DataFrame(np.reshape(sentiment, (len(sentiment),1)),columns=['open'])\n",
    "print(sentiment)"
   ]
  },
  {
   "cell_type": "code",
   "execution_count": 9,
   "metadata": {},
   "outputs": [
    {
     "data": {
      "image/png": "[encoded data removed]",
      "text/plain": [
       "<matplotlib.figure.Figure at 0x18491834828>"
      ]
     },
     "metadata": {},
     "output_type": "display_data"
    }
   ],
   "source": [
    "stock = StockDataFrame.retype(sentiment)\n",
    "ema=stock['open_2_sma']\n",
    "plt.figure(figsize=(20,10))\n",
    "plt.plot(stock,'g')\n",
    "plt.ylabel('some numbers')\n",
    "plt.show()"
   ]
  },
  {
   "cell_type": "code",
   "execution_count": null,
   "metadata": {
    "collapsed": true
   },
   "outputs": [],
   "source": []
  }
 ],
 "metadata": {
  "kernelspec": {
   "display_name": "Python 3",
   "language": "python",
   "name": "python3"
  },
  "language_info": {
   "codemirror_mode": {
    "name": "ipython",
    "version": 3
   },
   "file_extension": ".py",
   "mimetype": "text/x-python",
   "name": "python",
   "nbconvert_exporter": "python",
   "pygments_lexer": "ipython3",
   "version": "3.6.1"
  }
 },
 "nbformat": 4,
 "nbformat_minor": 2
}
