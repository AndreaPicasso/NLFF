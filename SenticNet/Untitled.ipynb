{
 "cells": [
  {
   "cell_type": "code",
   "execution_count": 13,
   "metadata": {},
   "outputs": [
    {
     "name": "stdout",
     "output_type": "stream",
     "text": [
      "{'polarity_value': 'positive', 'polarity_intense': '0.053', 'moodtags': ['#interest', '#admiration'], 'sentics': {'pleasantness': '0.031', 'attention': '0.125', 'sensitivity': '0.081', 'aptitude': '0.138'}, 'semantics': ['equal', 'add', 'tally', 'multiplication', 'mathematical_operation']}\n",
      "positive\n",
      "0.053\n",
      "['#interest', '#admiration']\n",
      "['equal', 'add', 'tally', 'multiplication', 'mathematical_operation']\n",
      "{'pleasantness': '0.031', 'attention': '0.125', 'sensitivity': '0.081', 'aptitude': '0.138'}\n"
     ]
    }
   ],
   "source": [
    "import pysentiment as ps\n",
    "import pandas as pd\n",
    "from senticnet.senticnet import SenticNet\n",
    "\n",
    "\n",
    "\n",
    "# hiv4 = ps.HIV4()\n",
    "# tokens = hiv4.tokenize(\"how hare you? fine well. beautifull\")\n",
    "# print(tokens)\n",
    "\n",
    "sentence = 'Average'\n",
    "\n",
    "sn = SenticNet()\n",
    "concept_info = sn.concept(sentence)\n",
    "polarity_value = sn.polarity_value(sentence)\n",
    "polarity_intense = sn.polarity_intense(sentence)\n",
    "moodtags = sn.moodtags(sentence)\n",
    "semantics = sn.semantics(sentence)\n",
    "sentics = sn.sentics(sentence)\n",
    "#score = hiv4.get_score(tokens)\n",
    "print(concept_info)\n",
    "print(polarity_value)\n",
    "print(polarity_intense)\n",
    "print(moodtags )\n",
    "print(semantics)\n",
    "print(sentics)\n",
    "\n",
    "\n",
    "#print(score)\n",
    "#subjec,10000)\n",
    "#f_score=np.multiply(score['Polarity'],sub)\n",
    "#f_score=np.multiply(f_score,0.001)\n",
    "#sentiment=np.append(sentiment,f_score)\n",
    "##\n",
    "#summary = TextBlob(data[i]['summary']).sentiment\n"
   ]
  },
  {
   "cell_type": "code",
   "execution_count": null,
   "metadata": {
    "collapsed": true
   },
   "outputs": [],
   "source": []
  }
 ],
 "metadata": {
  "kernelspec": {
   "display_name": "Python 3",
   "language": "python",
   "name": "python3"
  },
  "language_info": {
   "codemirror_mode": {
    "name": "ipython",
    "version": 3
   },
   "file_extension": ".py",
   "mimetype": "text/x-python",
   "name": "python",
   "nbconvert_exporter": "python",
   "pygments_lexer": "ipython3",
   "version": "3.6.5"
  }
 },
 "nbformat": 4,
 "nbformat_minor": 2
}
