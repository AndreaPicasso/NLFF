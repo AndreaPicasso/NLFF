{
 "cells": [
  {
   "cell_type": "code",
   "execution_count": null,
   "metadata": {},
   "outputs": [],
   "source": [
    "import senticnet\n",
    "import pandas as pd\n",
    "import numpy as np\n",
    "from nltk.stem import PorterStemmer\n"
   ]
  },
  {
   "cell_type": "code",
   "execution_count": null,
   "metadata": {},
   "outputs": [],
   "source": [
    "sn = senticnet.Senticnet()\n",
    "aapl = pd.read_csv('/home/simone/Desktop/NLFF/intrinioDatasetUpdated/preprocessing/preprocessed/AAPL.csv')\n",
    "aapl.head()"
   ]
  },
  {
   "cell_type": "code",
   "execution_count": null,
   "metadata": {},
   "outputs": [],
   "source": [
    "num_w_title = 0\n",
    "num_c_title = 0\n",
    "num_w_sum = 0\n",
    "num_c_sum = 0\n",
    "for index, row in aapl.iterrows():\n",
    "    summary = row['SUMMARY']\n",
    "    title = row['TITLE']\n",
    "    for w in summary.split(' '):\n",
    "        num_w_sum +=1\n",
    "        num_c_sum += 1 if sn.has(w) else 0\n",
    "    for w in title.split(' '):\n",
    "        num_w_title +=1\n",
    "        num_c_title += 1 if sn.has(w) else 0\n",
    "            \n",
    "print('Title % contained: ',str(num_c_title/num_w_title))\n",
    "print('Summary % contained: ',str(num_c_sum/num_w_sum))\n",
    "    "
   ]
  },
  {
   "cell_type": "code",
   "execution_count": null,
   "metadata": {},
   "outputs": [],
   "source": [
    "contained_freq = dict()\n",
    "missing_freq = dict()\n",
    "for index, row in aapl.iterrows():\n",
    "    summary = row['SUMMARY']\n",
    "    title = row['TITLE']\n",
    "    for w in summary.split(' ')+title.split(' '):\n",
    "        w = w.lower()\n",
    "        if sn.has(w):\n",
    "            contained_freq[w] = 1 if w not in contained_freq else contained_freq[w] + 1\n",
    "        else:\n",
    "            missing_freq[w] = 1 if w not in missing_freq else missing_freq[w] + 1\n",
    "    \n",
    "contained_freq = pd.DataFrame([contained_freq])\n",
    "missing_freq = pd.DataFrame([missing_freq])\n"
   ]
  },
  {
   "cell_type": "code",
   "execution_count": null,
   "metadata": {},
   "outputs": [],
   "source": [
    "missing_freq = missing_freq.sort_values(0, axis=1, ascending=False)\n",
    "missing_freq.iloc[0,0:30]"
   ]
  },
  {
   "cell_type": "code",
   "execution_count": null,
   "metadata": {},
   "outputs": [],
   "source": [
    "contained_freq = contained_freq.sort_values(0, axis=1, ascending=False)\n",
    "contained_freq.iloc[0,0:30]"
   ]
  },
  {
   "cell_type": "code",
   "execution_count": null,
   "metadata": {},
   "outputs": [],
   "source": []
  },
  {
   "cell_type": "code",
   "execution_count": null,
   "metadata": {},
   "outputs": [],
   "source": []
  }
 ],
 "metadata": {
  "kernelspec": {
   "display_name": "Python 3",
   "language": "python",
   "name": "python3"
  },
  "language_info": {
   "codemirror_mode": {
    "name": "ipython",
    "version": 3
   },
   "file_extension": ".py",
   "mimetype": "text/x-python",
   "name": "python",
   "nbconvert_exporter": "python",
   "pygments_lexer": "ipython3",
   "version": "3.6.5"
  }
 },
 "nbformat": 4,
 "nbformat_minor": 2
}
