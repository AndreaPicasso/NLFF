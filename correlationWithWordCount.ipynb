{
 "cells": [
  {
   "cell_type": "code",
   "execution_count": 1,
   "metadata": {},
   "outputs": [
    {
     "name": "stderr",
     "output_type": "stream",
     "text": [
      "/home/simone/anaconda3/lib/python3.6/site-packages/h5py/__init__.py:36: FutureWarning: Conversion of the second argument of issubdtype from `float` to `np.floating` is deprecated. In future, it will be treated as `np.float64 == np.dtype(float).type`.\n",
      "  from ._conv import register_converters as _register_converters\n"
     ]
    }
   ],
   "source": [
    "import pandas as pd\n",
    "import numpy as np\n",
    "import tensorflow as tf"
   ]
  },
  {
   "cell_type": "code",
   "execution_count": 2,
   "metadata": {},
   "outputs": [
    {
     "data": {
      "text/html": [
       "<div>\n",
       "<style scoped>\n",
       "    .dataframe tbody tr th:only-of-type {\n",
       "        vertical-align: middle;\n",
       "    }\n",
       "\n",
       "    .dataframe tbody tr th {\n",
       "        vertical-align: top;\n",
       "    }\n",
       "\n",
       "    .dataframe thead th {\n",
       "        text-align: right;\n",
       "    }\n",
       "</style>\n",
       "<table border=\"1\" class=\"dataframe\">\n",
       "  <thead>\n",
       "    <tr style=\"text-align: right;\">\n",
       "      <th></th>\n",
       "      <th>EMBEDDING</th>\n",
       "      <th>PUBLICATION_DATE</th>\n",
       "    </tr>\n",
       "  </thead>\n",
       "  <tbody>\n",
       "    <tr>\n",
       "      <th>0</th>\n",
       "      <td>[[-0.0065469709, 0.0058157258, -0.081490986, 0...</td>\n",
       "      <td>2018-03-27 22:22:02 +0000</td>\n",
       "    </tr>\n",
       "    <tr>\n",
       "      <th>1</th>\n",
       "      <td>[[0.0071692844, 0.0036201475, 0.0071739648, 0....</td>\n",
       "      <td>2018-03-27 22:03:00 +0000</td>\n",
       "    </tr>\n",
       "    <tr>\n",
       "      <th>10</th>\n",
       "      <td>[[0.0265268534, 0.0098307757, -0.0255550873, 0...</td>\n",
       "      <td>2018-03-27 20:54:03 +0000</td>\n",
       "    </tr>\n",
       "    <tr>\n",
       "      <th>100</th>\n",
       "      <td>[[0.0025254323000000003, -0.004816233200000000...</td>\n",
       "      <td>2018-03-26 22:15:00 +0000</td>\n",
       "    </tr>\n",
       "    <tr>\n",
       "      <th>1000</th>\n",
       "      <td>[[-0.0090962872, 0.0059659607, -0.0427609757, ...</td>\n",
       "      <td>2018-03-12 15:03:40 +0000</td>\n",
       "    </tr>\n",
       "  </tbody>\n",
       "</table>\n",
       "</div>"
      ],
      "text/plain": [
       "                                              EMBEDDING  \\\n",
       "0     [[-0.0065469709, 0.0058157258, -0.081490986, 0...   \n",
       "1     [[0.0071692844, 0.0036201475, 0.0071739648, 0....   \n",
       "10    [[0.0265268534, 0.0098307757, -0.0255550873, 0...   \n",
       "100   [[0.0025254323000000003, -0.004816233200000000...   \n",
       "1000  [[-0.0090962872, 0.0059659607, -0.0427609757, ...   \n",
       "\n",
       "               PUBLICATION_DATE  \n",
       "0     2018-03-27 22:22:02 +0000  \n",
       "1     2018-03-27 22:03:00 +0000  \n",
       "10    2018-03-27 20:54:03 +0000  \n",
       "100   2018-03-26 22:15:00 +0000  \n",
       "1000  2018-03-12 15:03:40 +0000  "
      ]
     },
     "execution_count": 2,
     "metadata": {},
     "output_type": "execute_result"
    }
   ],
   "source": [
    "embeddings = pd.read_json('/home/simone/Desktop/AAPL_EMBEDDING_2.json')\n",
    "embeddings.head()"
   ]
  },
  {
   "cell_type": "code",
   "execution_count": 10,
   "metadata": {},
   "outputs": [
    {
     "data": {
      "text/plain": [
       "0        0.0\n",
       "1        0.0\n",
       "2        0.0\n",
       "3        0.0\n",
       "4        0.0\n",
       "5        0.0\n",
       "6        0.0\n",
       "7        0.0\n",
       "8        0.0\n",
       "9        0.0\n",
       "10       0.0\n",
       "11       0.0\n",
       "12       0.0\n",
       "13       0.0\n",
       "14       0.0\n",
       "15       0.0\n",
       "16       0.0\n",
       "17       0.0\n",
       "18       0.0\n",
       "19       0.0\n",
       "20       0.0\n",
       "21       0.0\n",
       "22       0.0\n",
       "23       0.0\n",
       "24       0.0\n",
       "25       0.0\n",
       "26       0.0\n",
       "27       0.0\n",
       "28       0.0\n",
       "29       0.0\n",
       "        ... \n",
       "28710    0.0\n",
       "28711    0.0\n",
       "28712    0.0\n",
       "28713    0.0\n",
       "28714    0.0\n",
       "28715    0.0\n",
       "28716    0.0\n",
       "28717    0.0\n",
       "28718    0.0\n",
       "28719    0.0\n",
       "28720    0.0\n",
       "28721    0.0\n",
       "28722    0.0\n",
       "28723    0.0\n",
       "28724    0.0\n",
       "28725    0.0\n",
       "28726    0.0\n",
       "28727    0.0\n",
       "28728    0.0\n",
       "28729    0.0\n",
       "28730    0.0\n",
       "28731    0.0\n",
       "28732    0.0\n",
       "28733    0.0\n",
       "28734    0.0\n",
       "28735    0.0\n",
       "28736    0.0\n",
       "28737    0.0\n",
       "28738    0.0\n",
       "28739    0.0\n",
       "Name: LITIGIOUS, Length: 28740, dtype: float64"
      ]
     },
     "execution_count": 10,
     "metadata": {},
     "output_type": "execute_result"
    }
   ],
   "source": [
    "wordCount = pd.read_csv('/home/simone/Desktop/wordCountAAPL.csv')\n",
    "#wordCount = wordCount.drop(['Unnamed: 0'], axis=1)\n",
    "wordCount['LITIGIOUS']"
   ]
  },
  {
   "cell_type": "code",
   "execution_count": null,
   "metadata": {},
   "outputs": [],
   "source": [
    "wordCount"
   ]
  },
  {
   "cell_type": "code",
   "execution_count": null,
   "metadata": {},
   "outputs": [],
   "source": []
  },
  {
   "cell_type": "code",
   "execution_count": null,
   "metadata": {},
   "outputs": [],
   "source": []
  }
 ],
 "metadata": {
  "kernelspec": {
   "display_name": "Python 3",
   "language": "python",
   "name": "python3"
  },
  "language_info": {
   "codemirror_mode": {
    "name": "ipython",
    "version": 3
   },
   "file_extension": ".py",
   "mimetype": "text/x-python",
   "name": "python",
   "nbconvert_exporter": "python",
   "pygments_lexer": "ipython3",
   "version": "3.6.4"
  }
 },
 "nbformat": 4,
 "nbformat_minor": 2
}
