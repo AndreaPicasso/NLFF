{
 "cells": [
  {
   "cell_type": "code",
   "execution_count": 6,
   "metadata": {
    "collapsed": true
   },
   "outputs": [],
   "source": [
    "import pandas as pd\n",
    "import numpy as np\n",
    "from stockstats import StockDataFrame \n",
    "from googlefinance.client import get_price_data, get_prices_data, get_prices_time_data\n",
    "\n",
    "\n"
   ]
  },
  {
   "cell_type": "code",
   "execution_count": 7,
   "metadata": {
    "collapsed": true
   },
   "outputs": [],
   "source": [
    "\n",
    "param = {\n",
    "    'q': \"FB\", # Stock symbol (ex: \"AAPL\")\n",
    "    'i': \"3600\", # Interval size in seconds (\"86400\" = 1 day intervals)\n",
    "    'x': \"NASD\", # INDEXNASDAQStock exchange symbol on which stock is traded (ex: \"NASD\")\n",
    "    'p': \"2Y\" # Period (Ex: \"1Y\" = 1 year)\n",
    "}\n",
    "# link to doc http://www.networkerror.org/component/content/article/1-technical-wootness/44-googles-undocumented-finance-api.html\n",
    "# get price data (return pandas dataframe) 1465948800\n",
    "priceData = get_price_data(param)\n",
    "#print(priceData.d)\n",
    "#print(priceData)"
   ]
  },
  {
   "cell_type": "code",
   "execution_count": 8,
   "metadata": {
    "collapsed": true
   },
   "outputs": [],
   "source": [
    "stock = StockDataFrame.retype(priceData)\n",
    "toSave = pd.DataFrame(stock)"
   ]
  },
  {
   "cell_type": "code",
   "execution_count": 9,
   "metadata": {},
   "outputs": [
    {
     "name": "stderr",
     "output_type": "stream",
     "text": [
      "C:\\Users\\Utente\\Anaconda3\\lib\\site-packages\\pandas\\core\\indexing.py:179: SettingWithCopyWarning: \n",
      "A value is trying to be set on a copy of a slice from a DataFrame\n",
      "\n",
      "See the caveats in the documentation: http://pandas.pydata.org/pandas-docs/stable/indexing.html#indexing-view-versus-copy\n",
      "  self._setitem_with_indexer(indexer, value)\n"
     ]
    }
   ],
   "source": [
    "idxs = np.array(['macd','macds', 'boll_ub', 'boll_lb','rsi_6','rsi_12','vr_6_sma','wr_10','wr_6'])\n",
    "#print(idxs)\n",
    "for index,x in np.ndenumerate(idxs):\n",
    "    #print(x)\n",
    "    toSave = pd.concat([toSave, pd.DataFrame(stock.get(x))], axis=1)\n",
    "    #dat1 = pd.DataFrame({'dat1': [9,5]})\n",
    "    #toSave.join(pd.DataFrame({x:stock.get(x)}))\n",
    "\n",
    "\n",
    "#print(\"date\"+toSave)\n",
    "toSave.to_csv(r'C:\\Users\\Utente\\Desktop\\NLFF\\NLFF\\pythonIndex\\indexesT.csv')"
   ]
  },
  {
   "cell_type": "code",
   "execution_count": null,
   "metadata": {
    "collapsed": true
   },
   "outputs": [],
   "source": []
  },
  {
   "cell_type": "code",
   "execution_count": null,
   "metadata": {
    "collapsed": true
   },
   "outputs": [],
   "source": []
  }
 ],
 "metadata": {
  "kernelspec": {
   "display_name": "Python 3",
   "language": "python",
   "name": "python3"
  },
  "language_info": {
   "codemirror_mode": {
    "name": "ipython",
    "version": 3
   },
   "file_extension": ".py",
   "mimetype": "text/x-python",
   "name": "python",
   "nbconvert_exporter": "python",
   "pygments_lexer": "ipython3",
   "version": "3.6.1"
  }
 },
 "nbformat": 4,
 "nbformat_minor": 2
}
