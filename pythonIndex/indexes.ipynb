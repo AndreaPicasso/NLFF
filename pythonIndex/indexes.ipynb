{
 "cells": [
  {
   "cell_type": "code",
   "execution_count": 11,
   "metadata": {
    "collapsed": true
   },
   "outputs": [],
   "source": [
    "import pandas as pd\n",
    "import numpy as np\n",
    "from stockstats import StockDataFrame \n",
    "from googlefinance.client import get_price_data, get_prices_data, get_prices_time_data\n",
    "\n",
    "\n"
   ]
  },
  {
   "cell_type": "code",
   "execution_count": 12,
   "metadata": {
    "collapsed": true
   },
   "outputs": [],
   "source": [
    "\n",
    "param = {\n",
    "    'q': \"AAPL\", # Stock symbol (ex: \"AAPL\")\n",
    "    'i': \"3600\", # Interval size in seconds (\"86400\" = 1 day intervals)\n",
    "    'x': \"NASD\", # INDEXNASDAQStock exchange symbol on which stock is traded (ex: \"NASD\")\n",
    "    'p': \"3Y\" # Period (Ex: \"1Y\" = 1 year)\n",
    "}\n",
    "# link to doc http://www.networkerror.org/component/content/article/1-technical-wootness/44-googles-undocumented-finance-api.html\n",
    "# get price data (return pandas dataframe) 1465948800\n",
    "priceData = get_price_data(param)\n",
    "#print(priceData.d)\n",
    "#print(priceData)"
   ]
  },
  {
   "cell_type": "code",
   "execution_count": 13,
   "metadata": {
    "collapsed": true
   },
   "outputs": [],
   "source": [
    "stock = StockDataFrame.retype(priceData)\n",
    "toSave = pd.DataFrame(stock)"
   ]
  },
  {
   "cell_type": "code",
   "execution_count": 14,
   "metadata": {},
   "outputs": [],
   "source": [
    "idxs = np.array(['macd','macds', 'boll_ub', 'boll_lb','rsi_6','rsi_12','vr_6_sma','wr_10','wr_6'])\n",
    "#print(idxs)\n",
    "for index,x in np.ndenumerate(idxs):\n",
    "    #print(x)\n",
    "    toSave = pd.concat([toSave, pd.DataFrame(stock.get(x))], axis=1)\n",
    "    #dat1 = pd.DataFrame({'dat1': [9,5]})\n",
    "    #toSave.join(pd.DataFrame({x:stock.get(x)}))\n",
    "\n",
    "\n",
    "#print(\"date\"+toSave)\n",
    "toSave.to_csv(r'C:\\Users\\Utente\\Desktop\\NLFF\\NLFF\\pythonIndex\\indexesSIMO.csv')"
   ]
  },
  {
   "cell_type": "code",
   "execution_count": null,
   "metadata": {},
   "outputs": [],
   "source": []
  },
  {
   "cell_type": "code",
   "execution_count": null,
   "metadata": {
    "collapsed": true
   },
   "outputs": [],
   "source": []
  }
 ],
 "metadata": {
  "kernelspec": {
   "display_name": "Python 2",
   "language": "python",
   "name": "python2"
  },
  "language_info": {
   "codemirror_mode": {
    "name": "ipython",
    "version": 2
   },
   "file_extension": ".py",
   "mimetype": "text/x-python",
   "name": "python",
   "nbconvert_exporter": "python",
   "pygments_lexer": "ipython2",
   "version": "2.7.14"
  }
 },
 "nbformat": 4,
 "nbformat_minor": 2
}
