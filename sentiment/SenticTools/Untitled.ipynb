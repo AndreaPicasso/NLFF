{
 "cells": [
  {
   "cell_type": "code",
   "execution_count": 2,
   "metadata": {},
   "outputs": [
    {
     "ename": "ModuleNotFoundError",
     "evalue": "No module named 'senticnet'",
     "output_type": "error",
     "traceback": [
      "\u001b[0;31m---------------------------------------------------------------------------\u001b[0m",
      "\u001b[0;31mModuleNotFoundError\u001b[0m                       Traceback (most recent call last)",
      "\u001b[0;32m<ipython-input-2-670cd22f5dfd>\u001b[0m in \u001b[0;36m<module>\u001b[0;34m()\u001b[0m\n\u001b[1;32m      1\u001b[0m \u001b[0;31m#import pysentiment as ps\u001b[0m\u001b[0;34m\u001b[0m\u001b[0;34m\u001b[0m\u001b[0m\n\u001b[1;32m      2\u001b[0m \u001b[0;32mimport\u001b[0m \u001b[0mpandas\u001b[0m \u001b[0;32mas\u001b[0m \u001b[0mpd\u001b[0m\u001b[0;34m\u001b[0m\u001b[0m\n\u001b[0;32m----> 3\u001b[0;31m \u001b[0;32mfrom\u001b[0m \u001b[0msenticnet\u001b[0m\u001b[0;34m.\u001b[0m\u001b[0msenticnet\u001b[0m \u001b[0;32mimport\u001b[0m \u001b[0mSenticnet\u001b[0m\u001b[0;34m\u001b[0m\u001b[0m\n\u001b[0m\u001b[1;32m      4\u001b[0m \u001b[0mhiv4\u001b[0m \u001b[0;34m=\u001b[0m \u001b[0mps\u001b[0m\u001b[0;34m.\u001b[0m\u001b[0mHIV4\u001b[0m\u001b[0;34m(\u001b[0m\u001b[0;34m)\u001b[0m\u001b[0;34m\u001b[0m\u001b[0m\n\u001b[1;32m      5\u001b[0m \u001b[0mtokens\u001b[0m \u001b[0;34m=\u001b[0m \u001b[0mhiv4\u001b[0m\u001b[0;34m.\u001b[0m\u001b[0mtokenize\u001b[0m\u001b[0;34m(\u001b[0m\u001b[0;34m\"how hare you? fine well. beautifull\"\u001b[0m\u001b[0;34m)\u001b[0m\u001b[0;34m\u001b[0m\u001b[0m\n",
      "\u001b[0;31mModuleNotFoundError\u001b[0m: No module named 'senticnet'"
     ]
    }
   ],
   "source": [
    "#import pysentiment as ps\n",
    "import pandas as pd\n",
    "from senticnet.senticnet import Senticnet\n",
    "hiv4 = ps.HIV4()\n",
    "tokens = hiv4.tokenize(\"how hare you? fine well. beautifull\")\n",
    "print(tokens)\n",
    "\n",
    "\n",
    "sn = Senticnet()\n",
    "concept_info = sn.concept('love')\n",
    "polarity_value = sn.polarity_value('love')\n",
    "polarity_intense = sn.polarity_intense('love')\n",
    "moodtags = sn.moodtags('love')\n",
    "semantics = sn.semantics('love')\n",
    "sentics = sn.sentics('love')\n",
    "#score = hiv4.get_score(tokens)\n",
    "print(concept_info)\n",
    "print(polarity_value)\n",
    "print(polarity_intense)\n",
    "print(moodtags )\n",
    "print(semantics)\n",
    "print(sentics)\n",
    "\n",
    "\n",
    "#print(score)\n",
    "#subjec,10000)\n",
    "#f_score=np.multiply(score['Polarity'],sub)\n",
    "#f_score=np.multiply(f_score,0.001)\n",
    "#sentiment=np.append(sentiment,f_score)\n",
    "##\n",
    "#summary = TextBlob(data[i]['summary']).sentiment\n"
   ]
  },
  {
   "cell_type": "code",
   "execution_count": null,
   "metadata": {
    "collapsed": true
   },
   "outputs": [],
   "source": []
  }
 ],
 "metadata": {
  "kernelspec": {
   "display_name": "Python 3",
   "language": "python",
   "name": "python3"
  },
  "language_info": {
   "codemirror_mode": {
    "name": "ipython",
    "version": 3
   },
   "file_extension": ".py",
   "mimetype": "text/x-python",
   "name": "python",
   "nbconvert_exporter": "python",
   "pygments_lexer": "ipython3",
   "version": "3.6.4"
  }
 },
 "nbformat": 4,
 "nbformat_minor": 2
}
